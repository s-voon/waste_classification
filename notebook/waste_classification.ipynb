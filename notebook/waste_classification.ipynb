{
 "cells": [
  {
   "cell_type": "code",
   "execution_count": 1,
   "metadata": {},
   "outputs": [],
   "source": [
    "import torch\n",
    "import numpy as np\n",
    "import torchvision\n",
    "from torch import nn, optim\n",
    "from torchvision import datasets, transforms, models\n",
    "from torch.utils.data.sampler import SubsetRandomSampler"
   ]
  },
  {
   "cell_type": "code",
   "execution_count": 2,
   "metadata": {},
   "outputs": [
    {
     "name": "stdout",
     "output_type": "stream",
     "text": [
      "CUDA is available!  Training on GPU ...\n"
     ]
    }
   ],
   "source": [
    "# check if CUDA is available\n",
    "train_on_gpu = torch.cuda.is_available()\n",
    "if not train_on_gpu:\n",
    "    print('CUDA is not available.  Training on CPU ...')\n",
    "else:\n",
    "    print('CUDA is available!  Training on GPU ...')\n"
   ]
  },
  {
   "cell_type": "markdown",
   "metadata": {},
   "source": [
    "## Data Preparation"
   ]
  },
  {
   "cell_type": "code",
   "execution_count": 3,
   "metadata": {},
   "outputs": [
    {
     "name": "stdout",
     "output_type": "stream",
     "text": [
      "Classes: ['O', 'R']\n",
      "Class count: 12565, 9999\n",
      "Samples: 22564\n",
      "First sample: ('../DATASET/TRAIN/O\\\\O_1.jpg', 0)\n"
     ]
    }
   ],
   "source": [
    "TRAIN_DIR = \"../DATASET/TRAIN/\"\n",
    "train_dataset = torchvision.datasets.ImageFolder(root=TRAIN_DIR)\n",
    "print(f\"Classes: {train_dataset.classes}\")\n",
    "print(f\"Class count: {train_dataset.targets.count(0)}, {train_dataset.targets.count(1)}\")\n",
    "print(f\"Samples:\",len(train_dataset))\n",
    "print(f\"First sample: {train_dataset.samples[0]}\")"
   ]
  },
  {
   "cell_type": "markdown",
   "metadata": {},
   "source": [
    "`SubsetRandomSampler`: This is a PyTorch class used to sample data from a dataset based on provided indices. It ensures that the batches returned are from the specified subset of data (training or validation) and that the samples are randomly selected."
   ]
  },
  {
   "cell_type": "code",
   "execution_count": 4,
   "metadata": {},
   "outputs": [],
   "source": [
    "# Shuffling and Splitting Train data into train and valid data\n",
    "valid_size = 0.2\n",
    "num_train = len(train_dataset)\n",
    "indices = list(range(num_train))\n",
    "np.random.shuffle(indices)\n",
    "split = int(np.floor(valid_size * num_train))\n",
    "train_idx, valid_idx = indices[split:], indices[:split]\n",
    "\n",
    "# Creating Samplers\n",
    "train_sampler = SubsetRandomSampler(train_idx)\n",
    "valid_sampler = SubsetRandomSampler(valid_idx)\n"
   ]
  },
  {
   "cell_type": "markdown",
   "metadata": {},
   "source": [
    "## Preprocessing and Data Augmentation\n",
    "`ImageFolder` loads our data using the `PIL` package. We need to convert it into tensors. Pre-processing will be done using `torchvision.transforms`.\n",
    "1) Resizing: Ensure all images are of the same size, which is often reuqired for CNN\n",
    "2) Normalization: Normalize images to have a mean and standard deviation of O and 1 respectively. Ensure the data is on the same scale as what the prer-trained model expects.\n",
    "3) Random Horizontal Flip: Adds data augmentation to improve model generalization.\n",
    "4) Random Rotation: Helps in generalizaing by rotating images randomly within a specified range.\n",
    "5) Color Jitter: Slightly adjusts bightness, contrast, saturation, and hue to make model more robust\n"
   ]
  },
  {
   "cell_type": "code",
   "execution_count": 5,
   "metadata": {},
   "outputs": [],
   "source": [
    "IMAGE_SIZE = (64, 64)\n",
    "\n",
    "data_transforms = transforms.Compose([\n",
    "    transforms.Resize(IMAGE_SIZE),\n",
    "    transforms.RandomHorizontalFlip(),\n",
    "    transforms.RandomRotation(30),\n",
    "    transforms.ColorJitter(brightness=0.2, contrast=0.2, saturation=0.2, hue=0.2),\n",
    "    transforms.ToTensor(),\n",
    "    transforms.Normalize(mean=[0.485, 0.456, 0.406], std=[0.229, 0.224, 0.225]),\n",
    "])\n",
    "\n",
    "train_dataset = torchvision.datasets.ImageFolder(root=TRAIN_DIR, transform=data_transforms)"
   ]
  },
  {
   "cell_type": "markdown",
   "metadata": {},
   "source": [
    "Working with batches of data using `dataloader`"
   ]
  },
  {
   "cell_type": "code",
   "execution_count": 6,
   "metadata": {},
   "outputs": [],
   "source": [
    "BATCH_SIZE = 64\n",
    "\n",
    "train_loader = torch.utils.data.DataLoader(\n",
    "    train_dataset,          # our raw data\n",
    "    batch_size=BATCH_SIZE,  # the size of batches we want the dataloader to return\n",
    "    sampler=train_sampler,  # indicates which sampler to use to get the batches of data\n",
    "    drop_last=False         # don't drop the last batch even if it's smaller than batch_size\n",
    ")\n",
    "\n",
    "valid_loader = torch.utils.data.DataLoader(\n",
    "    train_dataset,\n",
    "    batch_size=BATCH_SIZE, \n",
    "    sampler=valid_sampler,\n",
    "    drop_last=False         # don't drop the last batch even if it's smaller than batch_size\n",
    ")"
   ]
  },
  {
   "cell_type": "markdown",
   "metadata": {},
   "source": [
    "## Preparing the test dataset\n",
    "Only apply resize and normalization transformation for the test data and not any data augmentation."
   ]
  },
  {
   "cell_type": "code",
   "execution_count": 7,
   "metadata": {},
   "outputs": [],
   "source": [
    "TEST_DIR = \"../DATASET/TEST/\"\n",
    "data_transforms_test = transforms.Compose([\n",
    "    transforms.Resize(IMAGE_SIZE),\n",
    "    transforms.ToTensor(),\n",
    "    transforms.Normalize(mean=[0.485, 0.456, 0.406], std=[0.229, 0.224, 0.225]),\n",
    "])\n",
    "\n",
    "test_dataset = torchvision.datasets.ImageFolder(root=TEST_DIR, transform=data_transforms_test)"
   ]
  },
  {
   "cell_type": "code",
   "execution_count": 8,
   "metadata": {},
   "outputs": [],
   "source": [
    "test_loader = torch.utils.data.DataLoader(\n",
    "    test_dataset,          # our raw data\n",
    "    batch_size=BATCH_SIZE,  # the size of batches we want the dataloader to return\n",
    "    drop_last=False         # don't drop the last batch even if it's smaller than batch_size\n",
    ")"
   ]
  },
  {
   "cell_type": "markdown",
   "metadata": {},
   "source": [
    "## Using Transfer Learning \n",
    "Take advantage of pre-trained model on large dataset. We will use ResNet as feature extractor and add extra layers to the pre-trained network. We will customize the last classification layer to a binary classification. We will also fine tune the last two layers.,"
   ]
  },
  {
   "cell_type": "code",
   "execution_count": 9,
   "metadata": {},
   "outputs": [
    {
     "name": "stderr",
     "output_type": "stream",
     "text": [
      "c:\\Users\\User\\miniconda3\\envs\\waste_org\\lib\\site-packages\\torchvision\\models\\_utils.py:208: UserWarning: The parameter 'pretrained' is deprecated since 0.13 and may be removed in the future, please use 'weights' instead.\n",
      "  warnings.warn(\n",
      "c:\\Users\\User\\miniconda3\\envs\\waste_org\\lib\\site-packages\\torchvision\\models\\_utils.py:223: UserWarning: Arguments other than a weight enum or `None` for 'weights' are deprecated since 0.13 and may be removed in the future. The current behavior is equivalent to passing `weights=ResNet34_Weights.IMAGENET1K_V1`. You can also use `weights=ResNet34_Weights.DEFAULT` to get the most up-to-date weights.\n",
      "  warnings.warn(msg)\n"
     ]
    }
   ],
   "source": [
    "# Load a pre-trained resnet34\n",
    "model = models.resnet34(pretrained=True)\n",
    "\n",
    "# Freeze all layers parameter\n",
    "for param in model.parameters(): \n",
    "    param.requires_grad = False\n",
    "\n",
    "# List the last classification layer, a fully connected layer outputting 1000 values\n",
    "list(model.named_children())[-1]\n",
    "num_features = model.fc.in_features\n",
    "\n",
    "new_layers = nn.Sequential(\n",
    "    nn.Linear(num_features,250),\n",
    "    nn.ReLU(),\n",
    "    nn.Linear(250,2)\n",
    ")\n",
    "\n",
    "model.fc = new_layers"
   ]
  },
  {
   "cell_type": "markdown",
   "metadata": {},
   "source": [
    "## Set Up Training\n",
    "Define the loss function and optimizer "
   ]
  },
  {
   "cell_type": "code",
   "execution_count": 10,
   "metadata": {},
   "outputs": [],
   "source": [
    "def trainer(model, criterion, optimizer, train_loader, valid_loader, device, epochs=5, verbose=True):\n",
    "    \"\"\"Simple training wrapper for PyTorch network.\"\"\"\n",
    "    \n",
    "    train_accuracy = []\n",
    "    valid_accuracy = []\n",
    "    for epoch in range(epochs):  # for each epoch\n",
    "        train_batch_loss = 0\n",
    "        train_batch_acc = 0\n",
    "        valid_batch_loss = 0\n",
    "        valid_batch_acc = 0\n",
    "        \n",
    "        # Training\n",
    "        model.train()\n",
    "        for X, y in train_loader:\n",
    "            X, y = X.to(device), y.to(device)\n",
    "            optimizer.zero_grad()\n",
    "            y_hat = model(X)\n",
    "            loss = criterion(y_hat, y.long())  # Ensure target labels are Long\n",
    "            loss.backward()\n",
    "            optimizer.step()\n",
    "            train_batch_loss += loss.item()\n",
    "            _, y_hat_labels = torch.max(y_hat, 1)\n",
    "            train_batch_acc += (y_hat_labels == y).type(torch.float32).mean().item()\n",
    "        train_accuracy.append(train_batch_acc / len(train_loader))\n",
    "        \n",
    "        # Validation\n",
    "        model.eval()\n",
    "        with torch.no_grad():\n",
    "            for X, y in valid_loader:\n",
    "                X, y = X.to(device), y.to(device)\n",
    "                y_hat = model(X)\n",
    "                loss = criterion(y_hat, y.long())  # Ensure target labels are Long\n",
    "                valid_batch_loss += loss.item()\n",
    "                _, y_hat_labels = torch.max(y_hat, 1)\n",
    "                valid_batch_acc += (y_hat_labels == y).type(torch.float32).mean().item()\n",
    "        valid_accuracy.append(valid_batch_acc / len(valid_loader))\n",
    "        \n",
    "        # Print progress\n",
    "        if verbose:\n",
    "            print(f\"Epoch {epoch + 1}:\",\n",
    "                  f\"Train Accuracy: {train_accuracy[-1]:.2f}\",\n",
    "                  f\"Valid Accuracy: {valid_accuracy[-1]:.2f}\")\n",
    "    \n",
    "    return {\"train_accuracy\": train_accuracy, \"valid_accuracy\": valid_accuracy}"
   ]
  },
  {
   "cell_type": "code",
   "execution_count": 11,
   "metadata": {},
   "outputs": [
    {
     "name": "stdout",
     "output_type": "stream",
     "text": [
      "Epoch 1: Train Accuracy: 0.80 Valid Accuracy: 0.82\n",
      "Epoch 2: Train Accuracy: 0.82 Valid Accuracy: 0.83\n",
      "Epoch 3: Train Accuracy: 0.83 Valid Accuracy: 0.83\n",
      "Epoch 4: Train Accuracy: 0.83 Valid Accuracy: 0.84\n",
      "Epoch 5: Train Accuracy: 0.84 Valid Accuracy: 0.84\n",
      "Epoch 6: Train Accuracy: 0.84 Valid Accuracy: 0.84\n",
      "Epoch 7: Train Accuracy: 0.84 Valid Accuracy: 0.84\n",
      "Epoch 8: Train Accuracy: 0.84 Valid Accuracy: 0.83\n",
      "Epoch 9: Train Accuracy: 0.85 Valid Accuracy: 0.84\n",
      "Epoch 10: Train Accuracy: 0.84 Valid Accuracy: 0.85\n"
     ]
    }
   ],
   "source": [
    "# Move model to GPU if available\n",
    "device = torch.device('cuda' if torch.cuda.is_available() else 'cpu')\n",
    "model = model.to(device)\n",
    "\n",
    "# Define loss function and optimizer\n",
    "criterion = nn.CrossEntropyLoss()\n",
    "optimizer = optim.Adam(model.parameters(), lr=0.001)\n",
    "\n",
    "results = trainer(model, criterion, optimizer, train_loader, valid_loader, device, epochs=10)"
   ]
  },
  {
   "cell_type": "code",
   "execution_count": 13,
   "metadata": {},
   "outputs": [],
   "source": [
    "torch.save(model.state_dict(), 'model_waste.pt')"
   ]
  },
  {
   "cell_type": "markdown",
   "metadata": {},
   "source": [
    "## Evaluating the model with test data"
   ]
  },
  {
   "cell_type": "code",
   "execution_count": 12,
   "metadata": {},
   "outputs": [
    {
     "name": "stdout",
     "output_type": "stream",
     "text": [
      "Test Loss: 0.405638\n",
      "\n",
      "Test Accuracy of     O: 97% (43/44)\n",
      "Test Accuracy of     R: 80% (29/36)\n",
      "\n",
      "Test Accuracy (Overall): 90% (72/80)\n"
     ]
    }
   ],
   "source": [
    "# track test loss\n",
    "test_loss = 0.0\n",
    "class_correct = list(0. for i in range(10))\n",
    "class_total = list(0. for i in range(10))\n",
    "\n",
    "#defining classes\n",
    "\n",
    "classes=['O','R']\n",
    "\n",
    "model.eval()\n",
    "# iterate over test data\n",
    "for data, target in test_loader:\n",
    "    # move tensors to GPU if CUDA is available\n",
    "    if train_on_gpu:\n",
    "        data, target = data.cuda(), target.cuda()\n",
    "    # forward pass: compute predicted outputs by passing inputs to the model\n",
    "    output = model(data)\n",
    "    # calculate the batch loss\n",
    "    loss = criterion(output, target)\n",
    "    # update test loss \n",
    "    test_loss += loss.item()*data.size(0)\n",
    "    # convert output probabilities to predicted class\n",
    "    _, pred = torch.max(output, 1)    \n",
    "    # compare predictions to true label\n",
    "    correct_tensor = pred.eq(target.data.view_as(pred))\n",
    "    correct = np.squeeze(correct_tensor.numpy()) if not train_on_gpu else np.squeeze(correct_tensor.cpu().numpy())\n",
    "    # calculate test accuracy for each object class\n",
    "    for i in range(2):\n",
    "        label = target.data[i]\n",
    "        class_correct[label] += correct[i].item()\n",
    "        class_total[label] += 1\n",
    "\n",
    "# average test loss\n",
    "test_loss = test_loss/len(test_loader.dataset)\n",
    "print('Test Loss: {:.6f}\\n'.format(test_loss))\n",
    "\n",
    "for i in range(2):\n",
    "    if class_total[i] > 0:\n",
    "        print('Test Accuracy of %5s: %2d%% (%2d/%2d)' % (\n",
    "            classes[i], 100 * class_correct[i] / class_total[i],\n",
    "            np.sum(class_correct[i]), np.sum(class_total[i])))\n",
    "    else:\n",
    "        print('Test Accuracy of %5s: N/A (no training examples)' % (classes[i]))\n",
    "\n",
    "print('\\nTest Accuracy (Overall): %2d%% (%2d/%2d)' % (\n",
    "    100. * np.sum(class_correct) / np.sum(class_total),\n",
    "    np.sum(class_correct), np.sum(class_total)))"
   ]
  },
  {
   "cell_type": "markdown",
   "metadata": {},
   "source": []
  }
 ],
 "metadata": {
  "kernelspec": {
   "display_name": "waste_org",
   "language": "python",
   "name": "python3"
  },
  "language_info": {
   "codemirror_mode": {
    "name": "ipython",
    "version": 3
   },
   "file_extension": ".py",
   "mimetype": "text/x-python",
   "name": "python",
   "nbconvert_exporter": "python",
   "pygments_lexer": "ipython3",
   "version": "3.10.14"
  }
 },
 "nbformat": 4,
 "nbformat_minor": 2
}
